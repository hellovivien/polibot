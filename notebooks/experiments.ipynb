{
 "cells": [
  {
   "cell_type": "code",
   "execution_count": 1,
   "source": [
    "import sys\r\n",
    "sys.path.insert(0, \"..\")\r\n",
    "import snscrape.modules.twitter as sntwitter\r\n",
    "from fastapi.encoders import jsonable_encoder\r\n",
    "import json\r\n",
    "import pandas as pd\r\n",
    "import numpy as np\r\n",
    "from pymongo import MongoClient\r\n",
    "import datetime\r\n",
    "import re\r\n",
    "from config import conf\r\n",
    "from utils import translate\r\n",
    "\r\n",
    "client = MongoClient(conf['mongo_uri'])\r\n",
    "db = client.politweet"
   ],
   "outputs": [],
   "metadata": {}
  },
  {
   "cell_type": "code",
   "execution_count": 2,
   "source": [
    "tweets = db.tweets.find({'content_en':{'$exists':False}}, {'content':1})\r\n",
    "for tweet in tweets:\r\n",
    "    # print(tweet['_id'])\r\n",
    "    content_en = translate(tweet['content'])\r\n",
    "    db.tweets.update_one(tweet, {\"$set\":{\"content_en\": content_en}})"
   ],
   "outputs": [],
   "metadata": {}
  },
  {
   "cell_type": "code",
   "execution_count": null,
   "source": [
    "conf = {\r\n",
    "    'positions': {\r\n",
    "        \"AGIR-E\": \"centre-droit\", # https://fr.wikipedia.org/wiki/Groupe_Agir_ensemble\r\n",
    "        \"DEM\": \"centre\", # https://fr.wikipedia.org/wiki/Mouvement_d%C3%A9mocrate_(France)\r\n",
    "        \"DLF\": \"droite-plus\", # https://fr.wikipedia.org/wiki/Debout_la_France\r\n",
    "        \"EDS\": \"centre-gauche\", # https://fr.wikipedia.org/wiki/Groupe_%C3%89cologie_d%C3%A9mocratie_solidarit%C3%A9\r\n",
    "        \"FI\": \"gauche-plus\", # https://fr.wikipedia.org/wiki/La_France_insoumise\r\n",
    "        \"GDR\": \"gauche-plus\", # https://fr.wikipedia.org/wiki/Groupe_de_la_Gauche_d%C3%A9mocrate_et_r%C3%A9publicaine\r\n",
    "        \"GE\": \"centre-gauche\", # https://fr.wikipedia.org/wiki/G%C3%A9n%C3%A9ration_%C3%A9cologie\r\n",
    "        \"LAREM\": \"centre\", # https://fr.wikipedia.org/wiki/La_R%C3%A9publique_en_marche\r\n",
    "        \"LDS\": \"droite-plus\", # https://fr.wikipedia.org/wiki/Ligue_du_Sud_(France)\r\n",
    "        \"LND\": \"gauche\", # https://fr.wikipedia.org/wiki/Les_Nouveaux_D%C3%A9mocrates\r\n",
    "        \"LR\": \"droite\", # https://fr.wikipedia.org/wiki/Les_R%C3%A9publicains\r\n",
    "        \"LT\": \"centre\", # https://fr.wikipedia.org/wiki/Groupe_Libert%C3%A9s_et_territoires\r\n",
    "        \"RN\": \"droite-plus\", # https://fr.wikipedia.org/wiki/Rassemblement_national\r\n",
    "        \"SOC\": \"gauche\", # https://fr.wikipedia.org/wiki/Groupe_socialiste_(Assembl%C3%A9e_nationale)\r\n",
    "        \"UDI_I\": \"centre-droit\", # https://fr.wikipedia.org/wiki/Union_des_d%C3%A9mocrates_et_ind%C3%A9pendants\r\n",
    "    },\r\n",
    "    \"binary_positions\": {\r\n",
    "        \"gauche\": [\"gauche\", \"centre-gauche\", \"gauche-plus\"],\r\n",
    "        \"droite\": [\"droite\", \"centre-droit\", \"droite-plus\"], \r\n",
    "    }\r\n",
    "}\r\n",
    "\r\n",
    "\r\n"
   ],
   "outputs": [],
   "metadata": {}
  },
  {
   "cell_type": "code",
   "execution_count": 50,
   "source": [
    "accounts = pd.DataFrame(list(db.accounts.find({}, {'_id':0, 'group_name':1, 'group':1})))\r\n",
    "accounts"
   ],
   "outputs": [
    {
     "output_type": "execute_result",
     "data": {
      "text/plain": [
       "              group_name   group\n",
       "0          Agir ensemble  AGIR-E\n",
       "1          Agir ensemble  AGIR-E\n",
       "2          Agir ensemble  AGIR-E\n",
       "3          Agir ensemble  AGIR-E\n",
       "4          Agir ensemble  AGIR-E\n",
       "..                   ...     ...\n",
       "488  UDI et Indépendants   UDI_I\n",
       "489  UDI et Indépendants   UDI_I\n",
       "490  UDI et Indépendants   UDI_I\n",
       "491  UDI et Indépendants   UDI_I\n",
       "492  UDI et Indépendants   UDI_I\n",
       "\n",
       "[493 rows x 2 columns]"
      ],
      "text/html": [
       "<div>\n",
       "<style scoped>\n",
       "    .dataframe tbody tr th:only-of-type {\n",
       "        vertical-align: middle;\n",
       "    }\n",
       "\n",
       "    .dataframe tbody tr th {\n",
       "        vertical-align: top;\n",
       "    }\n",
       "\n",
       "    .dataframe thead th {\n",
       "        text-align: right;\n",
       "    }\n",
       "</style>\n",
       "<table border=\"1\" class=\"dataframe\">\n",
       "  <thead>\n",
       "    <tr style=\"text-align: right;\">\n",
       "      <th></th>\n",
       "      <th>group_name</th>\n",
       "      <th>group</th>\n",
       "    </tr>\n",
       "  </thead>\n",
       "  <tbody>\n",
       "    <tr>\n",
       "      <th>0</th>\n",
       "      <td>Agir ensemble</td>\n",
       "      <td>AGIR-E</td>\n",
       "    </tr>\n",
       "    <tr>\n",
       "      <th>1</th>\n",
       "      <td>Agir ensemble</td>\n",
       "      <td>AGIR-E</td>\n",
       "    </tr>\n",
       "    <tr>\n",
       "      <th>2</th>\n",
       "      <td>Agir ensemble</td>\n",
       "      <td>AGIR-E</td>\n",
       "    </tr>\n",
       "    <tr>\n",
       "      <th>3</th>\n",
       "      <td>Agir ensemble</td>\n",
       "      <td>AGIR-E</td>\n",
       "    </tr>\n",
       "    <tr>\n",
       "      <th>4</th>\n",
       "      <td>Agir ensemble</td>\n",
       "      <td>AGIR-E</td>\n",
       "    </tr>\n",
       "    <tr>\n",
       "      <th>...</th>\n",
       "      <td>...</td>\n",
       "      <td>...</td>\n",
       "    </tr>\n",
       "    <tr>\n",
       "      <th>488</th>\n",
       "      <td>UDI et Indépendants</td>\n",
       "      <td>UDI_I</td>\n",
       "    </tr>\n",
       "    <tr>\n",
       "      <th>489</th>\n",
       "      <td>UDI et Indépendants</td>\n",
       "      <td>UDI_I</td>\n",
       "    </tr>\n",
       "    <tr>\n",
       "      <th>490</th>\n",
       "      <td>UDI et Indépendants</td>\n",
       "      <td>UDI_I</td>\n",
       "    </tr>\n",
       "    <tr>\n",
       "      <th>491</th>\n",
       "      <td>UDI et Indépendants</td>\n",
       "      <td>UDI_I</td>\n",
       "    </tr>\n",
       "    <tr>\n",
       "      <th>492</th>\n",
       "      <td>UDI et Indépendants</td>\n",
       "      <td>UDI_I</td>\n",
       "    </tr>\n",
       "  </tbody>\n",
       "</table>\n",
       "<p>493 rows × 2 columns</p>\n",
       "</div>"
      ]
     },
     "metadata": {},
     "execution_count": 50
    }
   ],
   "metadata": {}
  },
  {
   "cell_type": "code",
   "execution_count": 51,
   "source": [
    "accounts = accounts.drop_duplicates(subset=['group'])"
   ],
   "outputs": [],
   "metadata": {}
  },
  {
   "cell_type": "code",
   "execution_count": 53,
   "source": [
    "positions = {\r\n",
    "    \"AGIR-E\": \"centre-droit\", # https://fr.wikipedia.org/wiki/Groupe_Agir_ensemble\r\n",
    "    \"DEM\": \"centre\", # https://fr.wikipedia.org/wiki/Mouvement_d%C3%A9mocrate_(France)\r\n",
    "    \"DLF\": \"droite-plus\", # https://fr.wikipedia.org/wiki/Debout_la_France\r\n",
    "    \"EDS\": \"centre-gauche\", # https://fr.wikipedia.org/wiki/Groupe_%C3%89cologie_d%C3%A9mocratie_solidarit%C3%A9\r\n",
    "    \"FI\": \"gauche-plus\", # https://fr.wikipedia.org/wiki/La_France_insoumise\r\n",
    "    \"GDR\": \"gauche-plus\", # https://fr.wikipedia.org/wiki/Groupe_de_la_Gauche_d%C3%A9mocrate_et_r%C3%A9publicaine\r\n",
    "    \"GE\": \"centre-gauche\", # https://fr.wikipedia.org/wiki/G%C3%A9n%C3%A9ration_%C3%A9cologie\r\n",
    "    \"LAREM\": \"centre\", # https://fr.wikipedia.org/wiki/La_R%C3%A9publique_en_marche\r\n",
    "    \"LDS\": \"droite_plus\", # https://fr.wikipedia.org/wiki/Ligue_du_Sud_(France)\r\n",
    "    \"LND\": \"gauche\", # https://fr.wikipedia.org/wiki/Les_Nouveaux_D%C3%A9mocrates\r\n",
    "    \"LR\": \"droite\", # https://fr.wikipedia.org/wiki/Les_R%C3%A9publicains\r\n",
    "    \"LT\": \"centre\", # https://fr.wikipedia.org/wiki/Groupe_Libert%C3%A9s_et_territoires\r\n",
    "    \"RN\": \"droite-plus\", # https://fr.wikipedia.org/wiki/Rassemblement_national\r\n",
    "    \"SOC\": \"gauche\", # https://fr.wikipedia.org/wiki/Groupe_socialiste_(Assembl%C3%A9e_nationale)\r\n",
    "    \"UDI_I\": \"centre-droit\", # https://fr.wikipedia.org/wiki/Union_des_d%C3%A9mocrates_et_ind%C3%A9pendants\r\n",
    "}"
   ],
   "outputs": [
    {
     "output_type": "execute_result",
     "data": {
      "text/plain": [
       "                                            group_name   group\n",
       "0                                        Agir ensemble  AGIR-E\n",
       "20   Mouvement Démocrate (MoDem) et Démocrates appa...     DEM\n",
       "66                                    Debout la France     DLF\n",
       "68                      Écologie démocratie solidarité     EDS\n",
       "73                                 La France insoumise      FI\n",
       "90                    Gauche démocrate et républicaine     GDR\n",
       "98                                 Génération Écologie      GE\n",
       "100                            La République en Marche   LAREM\n",
       "351                                       Ligue du Sud     LDS\n",
       "352                            Les Nouveaux Démocrates     LND\n",
       "356                                   Les Républicains      LR\n",
       "436                            Libertés et Territoires      LT\n",
       "451                             Rassemblement National      RN\n",
       "456                          Socialistes et apparentés     SOC\n",
       "481                                UDI et Indépendants   UDI_I"
      ],
      "text/html": [
       "<div>\n",
       "<style scoped>\n",
       "    .dataframe tbody tr th:only-of-type {\n",
       "        vertical-align: middle;\n",
       "    }\n",
       "\n",
       "    .dataframe tbody tr th {\n",
       "        vertical-align: top;\n",
       "    }\n",
       "\n",
       "    .dataframe thead th {\n",
       "        text-align: right;\n",
       "    }\n",
       "</style>\n",
       "<table border=\"1\" class=\"dataframe\">\n",
       "  <thead>\n",
       "    <tr style=\"text-align: right;\">\n",
       "      <th></th>\n",
       "      <th>group_name</th>\n",
       "      <th>group</th>\n",
       "    </tr>\n",
       "  </thead>\n",
       "  <tbody>\n",
       "    <tr>\n",
       "      <th>0</th>\n",
       "      <td>Agir ensemble</td>\n",
       "      <td>AGIR-E</td>\n",
       "    </tr>\n",
       "    <tr>\n",
       "      <th>20</th>\n",
       "      <td>Mouvement Démocrate (MoDem) et Démocrates appa...</td>\n",
       "      <td>DEM</td>\n",
       "    </tr>\n",
       "    <tr>\n",
       "      <th>66</th>\n",
       "      <td>Debout la France</td>\n",
       "      <td>DLF</td>\n",
       "    </tr>\n",
       "    <tr>\n",
       "      <th>68</th>\n",
       "      <td>Écologie démocratie solidarité</td>\n",
       "      <td>EDS</td>\n",
       "    </tr>\n",
       "    <tr>\n",
       "      <th>73</th>\n",
       "      <td>La France insoumise</td>\n",
       "      <td>FI</td>\n",
       "    </tr>\n",
       "    <tr>\n",
       "      <th>90</th>\n",
       "      <td>Gauche démocrate et républicaine</td>\n",
       "      <td>GDR</td>\n",
       "    </tr>\n",
       "    <tr>\n",
       "      <th>98</th>\n",
       "      <td>Génération Écologie</td>\n",
       "      <td>GE</td>\n",
       "    </tr>\n",
       "    <tr>\n",
       "      <th>100</th>\n",
       "      <td>La République en Marche</td>\n",
       "      <td>LAREM</td>\n",
       "    </tr>\n",
       "    <tr>\n",
       "      <th>351</th>\n",
       "      <td>Ligue du Sud</td>\n",
       "      <td>LDS</td>\n",
       "    </tr>\n",
       "    <tr>\n",
       "      <th>352</th>\n",
       "      <td>Les Nouveaux Démocrates</td>\n",
       "      <td>LND</td>\n",
       "    </tr>\n",
       "    <tr>\n",
       "      <th>356</th>\n",
       "      <td>Les Républicains</td>\n",
       "      <td>LR</td>\n",
       "    </tr>\n",
       "    <tr>\n",
       "      <th>436</th>\n",
       "      <td>Libertés et Territoires</td>\n",
       "      <td>LT</td>\n",
       "    </tr>\n",
       "    <tr>\n",
       "      <th>451</th>\n",
       "      <td>Rassemblement National</td>\n",
       "      <td>RN</td>\n",
       "    </tr>\n",
       "    <tr>\n",
       "      <th>456</th>\n",
       "      <td>Socialistes et apparentés</td>\n",
       "      <td>SOC</td>\n",
       "    </tr>\n",
       "    <tr>\n",
       "      <th>481</th>\n",
       "      <td>UDI et Indépendants</td>\n",
       "      <td>UDI_I</td>\n",
       "    </tr>\n",
       "  </tbody>\n",
       "</table>\n",
       "</div>"
      ]
     },
     "metadata": {},
     "execution_count": 53
    }
   ],
   "metadata": {}
  },
  {
   "cell_type": "code",
   "execution_count": 58,
   "source": [
    "groups = accounts.to_dict('records')\r\n",
    "# groups\r\n",
    "for group in groups:\r\n",
    "    print(\"* **{}**: {}\\\\\".format(group[\"group\"], group[\"group_name\"]))"
   ],
   "outputs": [
    {
     "output_type": "stream",
     "name": "stdout",
     "text": [
      "* **AGIR-E**: Agir ensemble\\\n",
      "* **DEM**: Mouvement Démocrate (MoDem) et Démocrates apparentés\\\n",
      "* **DLF**: Debout la France\\\n",
      "* **EDS**: Écologie démocratie solidarité\\\n",
      "* **FI**: La France insoumise\\\n",
      "* **GDR**: Gauche démocrate et républicaine\\\n",
      "* **GE**: Génération Écologie\\\n",
      "* **LAREM**: La République en Marche\\\n",
      "* **LDS**: Ligue du Sud\\\n",
      "* **LND**: Les Nouveaux Démocrates\\\n",
      "* **LR**: Les Républicains\\\n",
      "* **LT**: Libertés et Territoires\\\n",
      "* **RN**: Rassemblement National\\\n",
      "* **SOC**: Socialistes et apparentés\\\n",
      "* **UDI_I**: UDI et Indépendants\\\n"
     ]
    }
   ],
   "metadata": {}
  },
  {
   "cell_type": "code",
   "execution_count": 48,
   "source": [
    "import random\r\n",
    "from IPython.display import display, Markdown\r\n",
    "\r\n",
    "def md(input):\r\n",
    "    return display(Markdown(input))\r\n",
    "\r\n",
    "def get_random_color():\r\n",
    "    return \"#\"+''.join([random.choice('0123456789ABCDEF') for _ in range(6)])\r\n",
    "\r\n",
    "for group in groups:\r\n",
    "    group['color'] = get_random_color()\r\n",
    "    print(group['color'])\r\n",
    "    md(\"<span style='color:white;background :{};padding: 5px'>{}</span>\".format(group['color'], group['group']))\r\n",
    "print({group['group']:group['color'] for group in groups})"
   ],
   "outputs": [
    {
     "output_type": "stream",
     "name": "stdout",
     "text": [
      "#5B17E3\n"
     ]
    },
    {
     "output_type": "display_data",
     "data": {
      "text/plain": [
       "<IPython.core.display.Markdown object>"
      ],
      "text/markdown": [
       "<span style='color:white;background :#5B17E3;padding: 5px'>AGIR-E</span>"
      ]
     },
     "metadata": {}
    },
    {
     "output_type": "stream",
     "name": "stdout",
     "text": [
      "#415291\n"
     ]
    },
    {
     "output_type": "display_data",
     "data": {
      "text/plain": [
       "<IPython.core.display.Markdown object>"
      ],
      "text/markdown": [
       "<span style='color:white;background :#415291;padding: 5px'>DEM</span>"
      ]
     },
     "metadata": {}
    },
    {
     "output_type": "stream",
     "name": "stdout",
     "text": [
      "#328855\n"
     ]
    },
    {
     "output_type": "display_data",
     "data": {
      "text/plain": [
       "<IPython.core.display.Markdown object>"
      ],
      "text/markdown": [
       "<span style='color:white;background :#328855;padding: 5px'>DLF</span>"
      ]
     },
     "metadata": {}
    },
    {
     "output_type": "stream",
     "name": "stdout",
     "text": [
      "#BA7096\n"
     ]
    },
    {
     "output_type": "display_data",
     "data": {
      "text/plain": [
       "<IPython.core.display.Markdown object>"
      ],
      "text/markdown": [
       "<span style='color:white;background :#BA7096;padding: 5px'>EDS</span>"
      ]
     },
     "metadata": {}
    },
    {
     "output_type": "stream",
     "name": "stdout",
     "text": [
      "#626539\n"
     ]
    },
    {
     "output_type": "display_data",
     "data": {
      "text/plain": [
       "<IPython.core.display.Markdown object>"
      ],
      "text/markdown": [
       "<span style='color:white;background :#626539;padding: 5px'>FI</span>"
      ]
     },
     "metadata": {}
    },
    {
     "output_type": "stream",
     "name": "stdout",
     "text": [
      "#99A8F7\n"
     ]
    },
    {
     "output_type": "display_data",
     "data": {
      "text/plain": [
       "<IPython.core.display.Markdown object>"
      ],
      "text/markdown": [
       "<span style='color:white;background :#99A8F7;padding: 5px'>GDR</span>"
      ]
     },
     "metadata": {}
    },
    {
     "output_type": "stream",
     "name": "stdout",
     "text": [
      "#52B62B\n"
     ]
    },
    {
     "output_type": "display_data",
     "data": {
      "text/plain": [
       "<IPython.core.display.Markdown object>"
      ],
      "text/markdown": [
       "<span style='color:white;background :#52B62B;padding: 5px'>GE</span>"
      ]
     },
     "metadata": {}
    },
    {
     "output_type": "stream",
     "name": "stdout",
     "text": [
      "#1484CB\n"
     ]
    },
    {
     "output_type": "display_data",
     "data": {
      "text/plain": [
       "<IPython.core.display.Markdown object>"
      ],
      "text/markdown": [
       "<span style='color:white;background :#1484CB;padding: 5px'>LAREM</span>"
      ]
     },
     "metadata": {}
    },
    {
     "output_type": "stream",
     "name": "stdout",
     "text": [
      "#248913\n"
     ]
    },
    {
     "output_type": "display_data",
     "data": {
      "text/plain": [
       "<IPython.core.display.Markdown object>"
      ],
      "text/markdown": [
       "<span style='color:white;background :#248913;padding: 5px'>LDS</span>"
      ]
     },
     "metadata": {}
    },
    {
     "output_type": "stream",
     "name": "stdout",
     "text": [
      "#64AE81\n"
     ]
    },
    {
     "output_type": "display_data",
     "data": {
      "text/plain": [
       "<IPython.core.display.Markdown object>"
      ],
      "text/markdown": [
       "<span style='color:white;background :#64AE81;padding: 5px'>LND</span>"
      ]
     },
     "metadata": {}
    },
    {
     "output_type": "stream",
     "name": "stdout",
     "text": [
      "#BA2261\n"
     ]
    },
    {
     "output_type": "display_data",
     "data": {
      "text/plain": [
       "<IPython.core.display.Markdown object>"
      ],
      "text/markdown": [
       "<span style='color:white;background :#BA2261;padding: 5px'>LR</span>"
      ]
     },
     "metadata": {}
    },
    {
     "output_type": "stream",
     "name": "stdout",
     "text": [
      "#14C55C\n"
     ]
    },
    {
     "output_type": "display_data",
     "data": {
      "text/plain": [
       "<IPython.core.display.Markdown object>"
      ],
      "text/markdown": [
       "<span style='color:white;background :#14C55C;padding: 5px'>LT</span>"
      ]
     },
     "metadata": {}
    },
    {
     "output_type": "stream",
     "name": "stdout",
     "text": [
      "#4E1D74\n"
     ]
    },
    {
     "output_type": "display_data",
     "data": {
      "text/plain": [
       "<IPython.core.display.Markdown object>"
      ],
      "text/markdown": [
       "<span style='color:white;background :#4E1D74;padding: 5px'>RN</span>"
      ]
     },
     "metadata": {}
    },
    {
     "output_type": "stream",
     "name": "stdout",
     "text": [
      "#7C6437\n"
     ]
    },
    {
     "output_type": "display_data",
     "data": {
      "text/plain": [
       "<IPython.core.display.Markdown object>"
      ],
      "text/markdown": [
       "<span style='color:white;background :#7C6437;padding: 5px'>SOC</span>"
      ]
     },
     "metadata": {}
    },
    {
     "output_type": "stream",
     "name": "stdout",
     "text": [
      "#9C7621\n"
     ]
    },
    {
     "output_type": "display_data",
     "data": {
      "text/plain": [
       "<IPython.core.display.Markdown object>"
      ],
      "text/markdown": [
       "<span style='color:white;background :#9C7621;padding: 5px'>UDI_I</span>"
      ]
     },
     "metadata": {}
    },
    {
     "output_type": "stream",
     "name": "stdout",
     "text": [
      "{'AGIR-E': '#5B17E3', 'DEM': '#415291', 'DLF': '#328855', 'EDS': '#BA7096', 'FI': '#626539', 'GDR': '#99A8F7', 'GE': '#52B62B', 'LAREM': '#1484CB', 'LDS': '#248913', 'LND': '#64AE81', 'LR': '#BA2261', 'LT': '#14C55C', 'RN': '#4E1D74', 'SOC': '#7C6437', 'UDI_I': '#9C7621'}\n"
     ]
    }
   ],
   "metadata": {}
  },
  {
   "cell_type": "code",
   "execution_count": 49,
   "source": [
    "colors_set = {'AGIR-E': '#5B17E3', 'DEM': '#415291', 'DLF': '#328855', 'EDS': '#BA7096', 'FI': '#626539', 'GDR': '#99A8F7', 'GE': '#52B62B', 'LAREM': '#1484CB', 'LDS': '#248913', 'LND': '#64AE81', 'LR': '#BA2261', 'LT': '#14C55C', 'RN': '#4E1D74', 'SOC': '#7C6437', 'UDI_I': '#9C7621'}\r\n",
    "\r\n",
    "def get_css(colors_set):\r\n",
    "    for group,color in colors_set.items():\r\n",
    "        print(\".label-{}{{background-color: {};}}\".format(group,color))\r\n",
    "\r\n",
    "get_css(colors_set)\r\n"
   ],
   "outputs": [
    {
     "output_type": "stream",
     "name": "stdout",
     "text": [
      ".label-AGIR-E{background-color: #5B17E3;}\n",
      ".label-DEM{background-color: #415291;}\n",
      ".label-DLF{background-color: #328855;}\n",
      ".label-EDS{background-color: #BA7096;}\n",
      ".label-FI{background-color: #626539;}\n",
      ".label-GDR{background-color: #99A8F7;}\n",
      ".label-GE{background-color: #52B62B;}\n",
      ".label-LAREM{background-color: #1484CB;}\n",
      ".label-LDS{background-color: #248913;}\n",
      ".label-LND{background-color: #64AE81;}\n",
      ".label-LR{background-color: #BA2261;}\n",
      ".label-LT{background-color: #14C55C;}\n",
      ".label-RN{background-color: #4E1D74;}\n",
      ".label-SOC{background-color: #7C6437;}\n",
      ".label-UDI_I{background-color: #9C7621;}\n"
     ]
    }
   ],
   "metadata": {}
  }
 ],
 "metadata": {
  "orig_nbformat": 4,
  "language_info": {
   "name": "python",
   "version": "3.9.6",
   "mimetype": "text/x-python",
   "codemirror_mode": {
    "name": "ipython",
    "version": 3
   },
   "pygments_lexer": "ipython3",
   "nbconvert_exporter": "python",
   "file_extension": ".py"
  },
  "kernelspec": {
   "name": "python3",
   "display_name": "Python 3.9.6 64-bit"
  },
  "interpreter": {
   "hash": "fe4cf03dffbb3654d8e2edfdcae5768bb385abb0209ad25dae5923adbae2e478"
  }
 },
 "nbformat": 4,
 "nbformat_minor": 2
}